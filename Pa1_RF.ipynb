{
  "nbformat": 4,
  "nbformat_minor": 0,
  "metadata": {
    "colab": {
      "provenance": [],
      "include_colab_link": true
    },
    "kernelspec": {
      "name": "python3",
      "display_name": "Python 3"
    },
    "language_info": {
      "name": "python"
    },
    "gpuClass": "standard"
  },
  "cells": [
    {
      "cell_type": "markdown",
      "metadata": {
        "id": "view-in-github",
        "colab_type": "text"
      },
      "source": [
        "<a href=\"https://colab.research.google.com/github/Aquariusmandy/DataMiningPa1/blob/master/Pa1_RF.ipynb\" target=\"_parent\"><img src=\"https://colab.research.google.com/assets/colab-badge.svg\" alt=\"Open In Colab\"/></a>"
      ]
    },
    {
      "cell_type": "code",
      "source": [
        "import pandas as pd\n",
        "from google.colab import drive\n",
        "\n",
        "drive.mount('/content/gdrive', force_remount=True)"
      ],
      "metadata": {
        "colab": {
          "base_uri": "https://localhost:8080/"
        },
        "id": "2uvtxwBAuAp0",
        "outputId": "5f233cf0-df7e-4484-a337-d2e293284de6"
      },
      "execution_count": 1,
      "outputs": [
        {
          "output_type": "stream",
          "name": "stdout",
          "text": [
            "Mounted at /content/gdrive\n"
          ]
        }
      ]
    },
    {
      "cell_type": "code",
      "source": [
        "import pandas as pd\n",
        "path = \"/content/gdrive/MyDrive/DataMining/\"\n",
        "\n",
        "#原始資料\n",
        "X_train=pd.read_csv(path+\"train_select_x.csv\")\n",
        "y_train=pd.read_csv(path+\"y_train.csv\")\n",
        "X_test=pd.read_csv(path+\"test_select_x.csv\")"
      ],
      "metadata": {
        "id": "46sWZpsO7bj2"
      },
      "execution_count": 2,
      "outputs": []
    },
    {
      "cell_type": "code",
      "source": [
        "#資料處裡\n",
        "from sklearn.preprocessing import LabelEncoder\n",
        "labelencoder = LabelEncoder()\n",
        "\n",
        "X_train_names = X_train.columns\n",
        "\n",
        "for X_train_name in X_train_names:\n",
        "    A = X_train[ \"%s\" % (X_train_name)][0]\n",
        "    #print( X_train[ \"%s\" % (X_train_name)][0] )\n",
        "    if isinstance(A, str):\n",
        "        X_train[ \"%s\" % (X_train_name)] = labelencoder.fit_transform(X_train[ \"%s\" % (X_train_name)])"
      ],
      "metadata": {
        "id": "pMepyMpd7Bz7"
      },
      "execution_count": 3,
      "outputs": []
    },
    {
      "cell_type": "code",
      "source": [
        "print(X_train)"
      ],
      "metadata": {
        "colab": {
          "base_uri": "https://localhost:8080/"
        },
        "id": "eKfYTx2olm-L",
        "outputId": "6185e729-3468-4c5d-d60a-fc8a3b7340fb"
      },
      "execution_count": 12,
      "outputs": [
        {
          "output_type": "stream",
          "name": "stdout",
          "text": [
            "       縣市  鄉鎮市區  最大出租所費天數  月管理費  建築類型  物件類型  所在樓層  建物樓高  距頂樓層數     坪數  陽台數  \\\n",
            "0      16  1616         4     0     1     0     6     6      0  16.00    0   \n",
            "1      13  1309        14  2000     2     0     6    24     18  20.61    1   \n",
            "2      16  1604         3     0     2     0     9    16      7  63.00    2   \n",
            "3      25  2528        30  3665     2     0    13    15      2  22.97    2   \n",
            "4      14  1400         2     0     2     0    13    14      1  24.42    1   \n",
            "...    ..   ...       ...   ...   ...   ...   ...   ...    ...    ...  ...   \n",
            "49995  17  1700         8  4500     2     0     7    14      7  30.45    1   \n",
            "49996  11  1111         8  2488     2     0    11    14      3  41.47    1   \n",
            "49997  18  1813        10  2754     2     0    19    19      0  26.01    2   \n",
            "49998  16  1604         5  3501     2     0     7    13      6  47.00    1   \n",
            "49999  17  1700         9  9019     2     0    12    17      5  89.09    1   \n",
            "\n",
            "       衛浴數  房數  客廳數  性別限制  刊登者類型  \n",
            "0        1   2    1     0      2  \n",
            "1        1   2    2     0      2  \n",
            "2        2   4    2     0      2  \n",
            "3        2   2    2     0      2  \n",
            "4        2   3    2     0      2  \n",
            "...    ...  ..  ...   ...    ...  \n",
            "49995    1   2    2     0      2  \n",
            "49996    2   3    2     0      2  \n",
            "49997    2   2    2     0      2  \n",
            "49998    2   3    2     0      2  \n",
            "49999    2   3    2     0      2  \n",
            "\n",
            "[50000 rows x 16 columns]\n"
          ]
        }
      ]
    },
    {
      "cell_type": "code",
      "source": [
        "from sklearn.preprocessing import LabelEncoder\n",
        "labelencoder = LabelEncoder()\n",
        "\n",
        "X_test_names = X_test.columns\n",
        "\n",
        "for X_test_name in X_test_names:\n",
        "    A = X_test[ \"%s\" % (X_test_name)][0]\n",
        "    #print( X_train[ \"%s\" % (X_train_name)][0] )\n",
        "    if isinstance(A, str):\n",
        "        X_test[ \"%s\" % (X_test_name)] = labelencoder.fit_transform(X_test[ \"%s\" % (X_test_name)])"
      ],
      "metadata": {
        "id": "GPKBLm_BQcDe"
      },
      "execution_count": 6,
      "outputs": []
    },
    {
      "cell_type": "code",
      "source": [
        "#訓練\n",
        "from sklearn.ensemble import RandomForestClassifier\n",
        "\n",
        "# 建立 Random Forest Classifier 模型\n",
        "RF = RandomForestClassifier(n_estimators=130, max_depth=15, random_state=1122)\n",
        "# 使用訓練資料訓練模型\n",
        "RF.fit( X_train, y_train)"
      ],
      "metadata": {
        "colab": {
          "base_uri": "https://localhost:8080/",
          "height": 130
        },
        "id": "qIr-YN3B9bro",
        "outputId": "4b30b00c-fcdc-4632-f4ca-44f206395b0a"
      },
      "execution_count": 4,
      "outputs": [
        {
          "output_type": "stream",
          "name": "stderr",
          "text": [
            "<ipython-input-4-333726d284d6>:7: DataConversionWarning: A column-vector y was passed when a 1d array was expected. Please change the shape of y to (n_samples,), for example using ravel().\n",
            "  RF.fit( X_train, y_train)\n"
          ]
        },
        {
          "output_type": "execute_result",
          "data": {
            "text/plain": [
              "RandomForestClassifier(max_depth=15, n_estimators=130, random_state=1122)"
            ],
            "text/html": [
              "<style>#sk-container-id-1 {color: black;background-color: white;}#sk-container-id-1 pre{padding: 0;}#sk-container-id-1 div.sk-toggleable {background-color: white;}#sk-container-id-1 label.sk-toggleable__label {cursor: pointer;display: block;width: 100%;margin-bottom: 0;padding: 0.3em;box-sizing: border-box;text-align: center;}#sk-container-id-1 label.sk-toggleable__label-arrow:before {content: \"▸\";float: left;margin-right: 0.25em;color: #696969;}#sk-container-id-1 label.sk-toggleable__label-arrow:hover:before {color: black;}#sk-container-id-1 div.sk-estimator:hover label.sk-toggleable__label-arrow:before {color: black;}#sk-container-id-1 div.sk-toggleable__content {max-height: 0;max-width: 0;overflow: hidden;text-align: left;background-color: #f0f8ff;}#sk-container-id-1 div.sk-toggleable__content pre {margin: 0.2em;color: black;border-radius: 0.25em;background-color: #f0f8ff;}#sk-container-id-1 input.sk-toggleable__control:checked~div.sk-toggleable__content {max-height: 200px;max-width: 100%;overflow: auto;}#sk-container-id-1 input.sk-toggleable__control:checked~label.sk-toggleable__label-arrow:before {content: \"▾\";}#sk-container-id-1 div.sk-estimator input.sk-toggleable__control:checked~label.sk-toggleable__label {background-color: #d4ebff;}#sk-container-id-1 div.sk-label input.sk-toggleable__control:checked~label.sk-toggleable__label {background-color: #d4ebff;}#sk-container-id-1 input.sk-hidden--visually {border: 0;clip: rect(1px 1px 1px 1px);clip: rect(1px, 1px, 1px, 1px);height: 1px;margin: -1px;overflow: hidden;padding: 0;position: absolute;width: 1px;}#sk-container-id-1 div.sk-estimator {font-family: monospace;background-color: #f0f8ff;border: 1px dotted black;border-radius: 0.25em;box-sizing: border-box;margin-bottom: 0.5em;}#sk-container-id-1 div.sk-estimator:hover {background-color: #d4ebff;}#sk-container-id-1 div.sk-parallel-item::after {content: \"\";width: 100%;border-bottom: 1px solid gray;flex-grow: 1;}#sk-container-id-1 div.sk-label:hover label.sk-toggleable__label {background-color: #d4ebff;}#sk-container-id-1 div.sk-serial::before {content: \"\";position: absolute;border-left: 1px solid gray;box-sizing: border-box;top: 0;bottom: 0;left: 50%;z-index: 0;}#sk-container-id-1 div.sk-serial {display: flex;flex-direction: column;align-items: center;background-color: white;padding-right: 0.2em;padding-left: 0.2em;position: relative;}#sk-container-id-1 div.sk-item {position: relative;z-index: 1;}#sk-container-id-1 div.sk-parallel {display: flex;align-items: stretch;justify-content: center;background-color: white;position: relative;}#sk-container-id-1 div.sk-item::before, #sk-container-id-1 div.sk-parallel-item::before {content: \"\";position: absolute;border-left: 1px solid gray;box-sizing: border-box;top: 0;bottom: 0;left: 50%;z-index: -1;}#sk-container-id-1 div.sk-parallel-item {display: flex;flex-direction: column;z-index: 1;position: relative;background-color: white;}#sk-container-id-1 div.sk-parallel-item:first-child::after {align-self: flex-end;width: 50%;}#sk-container-id-1 div.sk-parallel-item:last-child::after {align-self: flex-start;width: 50%;}#sk-container-id-1 div.sk-parallel-item:only-child::after {width: 0;}#sk-container-id-1 div.sk-dashed-wrapped {border: 1px dashed gray;margin: 0 0.4em 0.5em 0.4em;box-sizing: border-box;padding-bottom: 0.4em;background-color: white;}#sk-container-id-1 div.sk-label label {font-family: monospace;font-weight: bold;display: inline-block;line-height: 1.2em;}#sk-container-id-1 div.sk-label-container {text-align: center;}#sk-container-id-1 div.sk-container {/* jupyter's `normalize.less` sets `[hidden] { display: none; }` but bootstrap.min.css set `[hidden] { display: none !important; }` so we also need the `!important` here to be able to override the default hidden behavior on the sphinx rendered scikit-learn.org. See: https://github.com/scikit-learn/scikit-learn/issues/21755 */display: inline-block !important;position: relative;}#sk-container-id-1 div.sk-text-repr-fallback {display: none;}</style><div id=\"sk-container-id-1\" class=\"sk-top-container\"><div class=\"sk-text-repr-fallback\"><pre>RandomForestClassifier(max_depth=15, n_estimators=130, random_state=1122)</pre><b>In a Jupyter environment, please rerun this cell to show the HTML representation or trust the notebook. <br />On GitHub, the HTML representation is unable to render, please try loading this page with nbviewer.org.</b></div><div class=\"sk-container\" hidden><div class=\"sk-item\"><div class=\"sk-estimator sk-toggleable\"><input class=\"sk-toggleable__control sk-hidden--visually\" id=\"sk-estimator-id-1\" type=\"checkbox\" checked><label for=\"sk-estimator-id-1\" class=\"sk-toggleable__label sk-toggleable__label-arrow\">RandomForestClassifier</label><div class=\"sk-toggleable__content\"><pre>RandomForestClassifier(max_depth=15, n_estimators=130, random_state=1122)</pre></div></div></div></div></div>"
            ]
          },
          "metadata": {},
          "execution_count": 4
        }
      ]
    },
    {
      "cell_type": "code",
      "source": [
        "#X_train"
      ],
      "metadata": {
        "id": "2lK3h2xpMsn6"
      },
      "execution_count": null,
      "outputs": []
    },
    {
      "cell_type": "code",
      "source": [
        "# 沒有標準化的預測成功的比例\n",
        "print(\"訓練集:\" , RF.score(X_train,y_train))"
      ],
      "metadata": {
        "id": "zw8_xqAzCGwf"
      },
      "execution_count": null,
      "outputs": []
    },
    {
      "cell_type": "code",
      "source": [
        "# 來測試標準化"
      ],
      "metadata": {
        "id": "QMqZnYk9Ldsf"
      },
      "execution_count": null,
      "outputs": []
    },
    {
      "cell_type": "code",
      "source": [
        "# 資料標準化\n",
        "from sklearn import preprocessing\n",
        "#建立MinMaxScaler物件\n",
        "minmax = preprocessing.MinMaxScaler()\n",
        "# 資料標準化\n",
        "X_train = minmax.fit_transform(X_train)"
      ],
      "metadata": {
        "id": "HhC5ua6FLUS2"
      },
      "execution_count": 24,
      "outputs": []
    },
    {
      "cell_type": "code",
      "source": [
        "# 建立 Random Forest Classifier 模型\n",
        "from sklearn.ensemble import RandomForestClassifier\n",
        "RF2 = RandomForestClassifier(n_estimators=120, max_depth=15, random_state=1122)\n",
        "# 使用標準化後的訓練資料訓練模型\n",
        "RF2.fit( X_train, y_train)"
      ],
      "metadata": {
        "colab": {
          "base_uri": "https://localhost:8080/"
        },
        "id": "xqF3jp1yL0vv",
        "outputId": "d90c22d2-20e8-4df2-be92-09d2a436cbda"
      },
      "execution_count": null,
      "outputs": [
        {
          "output_type": "stream",
          "name": "stderr",
          "text": [
            "<ipython-input-25-dc478c0e6fa5>:5: DataConversionWarning: A column-vector y was passed when a 1d array was expected. Please change the shape of y to (n_samples,), for example using ravel().\n",
            "  RF2.fit( X_train, y_train)\n"
          ]
        }
      ]
    },
    {
      "cell_type": "code",
      "source": [
        "# 有標準化的預測成功的比例\n",
        "print(\"標準化後訓練集:\" , RF2.score(X_train,y_train))"
      ],
      "metadata": {
        "colab": {
          "base_uri": "https://localhost:8080/"
        },
        "id": "uEeizFUHONTH",
        "outputId": "9e9ce901-6d91-498c-eb95-e6836a686058"
      },
      "execution_count": 11,
      "outputs": [
        {
          "output_type": "stream",
          "name": "stdout",
          "text": [
            "標準化後訓練集: 0.60008\n"
          ]
        }
      ]
    },
    {
      "cell_type": "code",
      "source": [
        "X_test = minmax.fit_transform(X_test)"
      ],
      "metadata": {
        "id": "hXe6cTyCPzQ5"
      },
      "execution_count": 18,
      "outputs": []
    },
    {
      "cell_type": "code",
      "source": [
        "# 使用訓練模型進行預測分類\n",
        "\n",
        "predicted = RF.predict(X_test)"
      ],
      "metadata": {
        "id": "7qn9F1_qCZTA"
      },
      "execution_count": 5,
      "outputs": []
    },
    {
      "cell_type": "code",
      "source": [
        "# 整理預測結果資料格式\n",
        "predicted = pd.DataFrame(predicted)\n",
        "predicted.index = predicted.index +1\n",
        "predicted.insert(0, column=\"INDEX\", value=predicted.index)\n",
        "predicted.columns=['INDEX', 'RENT']"
      ],
      "metadata": {
        "id": "T7yh9CIzRWIt"
      },
      "execution_count": 6,
      "outputs": []
    },
    {
      "cell_type": "code",
      "source": [
        "print(predicted)"
      ],
      "metadata": {
        "id": "bRR_wPXBb7pd",
        "outputId": "94fbcd17-df14-42c1-87f4-03eef0caf663",
        "colab": {
          "base_uri": "https://localhost:8080/"
        }
      },
      "execution_count": 7,
      "outputs": [
        {
          "output_type": "stream",
          "name": "stdout",
          "text": [
            "       INDEX   RENT\n",
            "1          1  38000\n",
            "2          2  20000\n",
            "3          3  25000\n",
            "4          4  26000\n",
            "5          5  35000\n",
            "...      ...    ...\n",
            "9996    9996  20000\n",
            "9997    9997  26000\n",
            "9998    9998  25000\n",
            "9999    9999  20000\n",
            "10000  10000  30000\n",
            "\n",
            "[10000 rows x 2 columns]\n"
          ]
        }
      ]
    },
    {
      "cell_type": "code",
      "source": [
        "predicted.to_csv(\"/content/gdrive/MyDrive/DataMining/Y_RF(select)_130_15.csv\", index = False)"
      ],
      "metadata": {
        "id": "CrAZIEH2V_lo"
      },
      "execution_count": 8,
      "outputs": []
    },
    {
      "cell_type": "code",
      "source": [
        "#參考\n",
        "#https://colab.research.google.com/github/andy6804tw/2021-13th-ironman/blob/main/14.%E9%9A%A8%E6%A9%9F%E6%A3%AE%E6%9E%97/14.1.%E9%9A%A8%E6%A9%9F%E6%A3%AE%E6%9E%97(Classification-iris).ipynb"
      ],
      "metadata": {
        "id": "VIkalzJL-1GI"
      },
      "execution_count": null,
      "outputs": []
    }
  ]
}